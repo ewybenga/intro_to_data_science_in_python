{
 "cells": [
  {
   "cell_type": "markdown",
   "metadata": {},
   "source": [
    "The first thing to do is import all the packages you might need. For now, we'll start with pandas and matplotlib. Pandas is a common data analysis package in Python. Matplotlib is a common plotting library. For this week, we're just going to take a look at the data - exploring is usually the first step."
   ]
  },
  {
   "cell_type": "code",
   "execution_count": 1,
   "metadata": {
    "collapsed": true
   },
   "outputs": [],
   "source": [
    "import pandas as pd\n",
    "import matplotlib.pyplot as plt"
   ]
  },
  {
   "cell_type": "markdown",
   "metadata": {},
   "source": [
    "If you don't already have these packages (failure to import) you'll need to install them. You should be able to go to the command line and run \"pip install [package name]\"  \n",
    "  \n",
    "Each of these packages has a lot of functionalities. You can find their documentation online (https://pandas.pydata.org/docs/ and https://matplotlib.org/contents.html). Usually people don't read through the documentation, but if you need to do something try googling \"how to [do something] in python\" and go to Stack Overflow. Then, it can be helpful to look up the documentation for the specific function they recommend.  \n",
    "  \n",
    "  Let's try that out."
   ]
  },
  {
   "cell_type": "code",
   "execution_count": 7,
   "metadata": {
    "collapsed": true
   },
   "outputs": [],
   "source": [
    "# First, we're going to set a variable called fp (filepath) that says what the name of the \n",
    "# file we're going to import is. It should be in the same folder as the notebook, so you can \n",
    "# call it by its name\n",
    "fp = \"DataDownload2015.xlsx\""
   ]
  },
  {
   "cell_type": "markdown",
   "metadata": {},
   "source": [
    "## Question 1 - Read in the data at fp"
   ]
  },
  {
   "cell_type": "markdown",
   "metadata": {},
   "source": [
    "Try seeing if you can find a function in pandas that reads .xlsx files."
   ]
  },
  {
   "cell_type": "code",
   "execution_count": 5,
   "metadata": {
    "collapsed": false
   },
   "outputs": [],
   "source": [
    "df = # TODO"
   ]
  },
  {
   "cell_type": "markdown",
   "metadata": {},
   "source": [
    "Go to the documentation and skim through the arguments this function can take. If you only wanted to read in the first 100 rows, how would you do that? Fill in the line below."
   ]
  },
  {
   "cell_type": "code",
   "execution_count": 9,
   "metadata": {
    "collapsed": false
   },
   "outputs": [],
   "source": [
    "df_100rows = # TODO"
   ]
  },
  {
   "cell_type": "code",
   "execution_count": null,
   "metadata": {
    "collapsed": true
   },
   "outputs": [],
   "source": []
  }
 ],
 "metadata": {
  "kernelspec": {
   "display_name": "Python [conda root]",
   "language": "python",
   "name": "conda-root-py"
  },
  "language_info": {
   "codemirror_mode": {
    "name": "ipython",
    "version": 3
   },
   "file_extension": ".py",
   "mimetype": "text/x-python",
   "name": "python",
   "nbconvert_exporter": "python",
   "pygments_lexer": "ipython3",
   "version": "3.5.2"
  }
 },
 "nbformat": 4,
 "nbformat_minor": 1
}
